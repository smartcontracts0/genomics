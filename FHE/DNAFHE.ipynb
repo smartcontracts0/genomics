{
  "nbformat": 4,
  "nbformat_minor": 0,
  "metadata": {
    "colab": {
      "provenance": [],
      "machine_shape": "hm",
      "gpuType": "L4",
      "authorship_tag": "ABX9TyPKP5Qb6I92YbTLa9AxpCF7",
      "include_colab_link": true
    },
    "kernelspec": {
      "name": "python3",
      "display_name": "Python 3"
    },
    "language_info": {
      "name": "python"
    },
    "accelerator": "GPU"
  },
  "cells": [
    {
      "cell_type": "markdown",
      "metadata": {
        "id": "view-in-github",
        "colab_type": "text"
      },
      "source": [
        "<a href=\"https://colab.research.google.com/github/smartcontracts0/genomics/blob/main/FHE/Untitled1.ipynb\" target=\"_parent\"><img src=\"https://colab.research.google.com/assets/colab-badge.svg\" alt=\"Open In Colab\"/></a>"
      ]
    },
    {
      "cell_type": "code",
      "source": [
        "import random\n",
        "import pandas as pd\n",
        "import numpy as np\n",
        "from faker import Faker\n",
        "\n",
        "# Initialize Faker\n",
        "fake = Faker()\n",
        "\n",
        "# Define DNA nucleotides\n",
        "nucleotides = ['A', 'T', 'C', 'G']\n",
        "\n",
        "# Function to generate a random DNA sequence of a given length\n",
        "def generate_dna_sequence(length):\n",
        "    return ''.join(random.choices(nucleotides, k=length))\n",
        "\n",
        "# Create a synthetic dataset\n",
        "def create_synthetic_dataset(n_samples=1000):\n",
        "    data = []\n",
        "    for _ in range(n_samples):\n",
        "        sample_id = fake.uuid4()\n",
        "        sequence_length = random.randint(50, 150)\n",
        "        sequence = generate_dna_sequence(sequence_length)\n",
        "        chromosome = random.choice(list(range(1, 23)) + ['X', 'Y'])\n",
        "        region_type = random.choice(['coding', 'non-coding'])\n",
        "        ancestry = random.choice(['African', 'Asian', 'European', 'American'])\n",
        "        phenotype = random.choice(['healthy', 'diseased'])\n",
        "        data.append([sample_id, sequence, chromosome, region_type, sequence_length, ancestry, phenotype])\n",
        "    return pd.DataFrame(data, columns=['sample_id', 'sequence', 'chromosome', 'region_type', 'sequence_length', 'ancestry', 'phenotype'])\n",
        "\n",
        "# Create the dataset\n",
        "df = create_synthetic_dataset()\n",
        "print(df.head())\n"
      ],
      "metadata": {
        "colab": {
          "base_uri": "https://localhost:8080/"
        },
        "id": "EVw-xZzqY6ED",
        "outputId": "dc50dd1a-e884-4009-aada-fdae46e114f8"
      },
      "execution_count": 28,
      "outputs": [
        {
          "output_type": "stream",
          "name": "stdout",
          "text": [
            "                              sample_id  \\\n",
            "0  86bc110e-dfdf-4e17-aaa7-ed6bf7118508   \n",
            "1  7d53a115-015c-4284-a43d-8e7d81c06625   \n",
            "2  85449686-7123-4681-b69c-d7f909773d64   \n",
            "3  2fef72ee-87b8-49b1-892f-5dd7d88d7aed   \n",
            "4  1df56fa3-4c19-4d0f-a87b-e1c89032c908   \n",
            "\n",
            "                                            sequence chromosome region_type  \\\n",
            "0  TTCGCTAGCAGAAGGGGTGGCCTACCCTCTTTTTACGGGCAGGTAT...          4  non-coding   \n",
            "1  CGGCAACTCTGCAGGTAAGGGGCCGGTTTGCTAGGTATTGTACGGT...         10  non-coding   \n",
            "2  TAACTTACGGTGCAGTCGGGGCTTTACCGTTAGCTCCGAAGCCCCC...         13      coding   \n",
            "3  AAAGCCGTCGGAGTACTTGATTTAGGTTTGTGTGTAGACGGTTATT...          5      coding   \n",
            "4  GCAGTATACGCAAGATCAGTACCGGCTGCTAGATAAAATAGTTTTA...         18      coding   \n",
            "\n",
            "   sequence_length  ancestry phenotype  \n",
            "0               59  European   healthy  \n",
            "1               94  European   healthy  \n",
            "2               92   African   healthy  \n",
            "3              115  American   healthy  \n",
            "4              148   African  diseased  \n"
          ]
        }
      ]
    },
    {
      "cell_type": "code",
      "source": [
        "from sklearn.preprocessing import LabelEncoder\n",
        "from sklearn.model_selection import train_test_split\n",
        "\n",
        "# Encode categorical columns\n",
        "label_encoders = {}\n",
        "for column in ['chromosome', 'region_type', 'ancestry', 'phenotype']:\n",
        "    le = LabelEncoder()\n",
        "    # Convert the column to string type before encoding to ensure uniformity\n",
        "    df[column] = df[column].astype(str)  # This line is added to fix the error\n",
        "    df[column] = le.fit_transform(df[column])\n",
        "    label_encoders[column] = le\n",
        "\n",
        "# Prepare features and labels\n",
        "X = df[['sequence_length', 'chromosome', 'region_type', 'ancestry']].values\n",
        "y = df['phenotype'].values\n",
        "\n",
        "# Split the data into training and test sets\n",
        "X_train, X_test, y_train, y_test = train_test_split(X, y, test_size=0.2, random_state=42)"
      ],
      "metadata": {
        "id": "MT7BsgKnJGbM"
      },
      "execution_count": 29,
      "outputs": []
    },
    {
      "cell_type": "code",
      "source": [
        "from concrete.ml.sklearn import LogisticRegression\n",
        "from sklearn.preprocessing import StandardScaler\n",
        "\n",
        "# Scale the features to have zero mean and unit variance\n",
        "scaler = StandardScaler()\n",
        "X_train = scaler.fit_transform(X_train)\n",
        "X_test = scaler.transform(X_test)\n",
        "\n",
        "# Now we train in the clear and quantize the weights\n",
        "model = LogisticRegression(n_bits=8)\n",
        "model.fit(X_train, y_train)\n",
        "\n",
        "# We can simulate the predictions in the clear\n",
        "y_pred_clear = model.predict(X_test)\n",
        "\n",
        "# We then compile on a representative set\n",
        "model.compile(X_train)\n",
        "\n",
        "# Finally we run the inference on encrypted inputs !\n",
        "y_pred_fhe = model.predict(X_test, fhe=\"execute\")\n",
        "\n",
        "print(\"In clear  :\", y_pred_clear)\n",
        "print(\"In FHE    :\", y_pred_fhe)\n",
        "print(f\"Similarity: {int((y_pred_fhe == y_pred_clear).mean()*100)}%\")"
      ],
      "metadata": {
        "colab": {
          "base_uri": "https://localhost:8080/"
        },
        "id": "9VyrktibKnj7",
        "outputId": "0a59bdd4-78bc-485b-b624-f8fcb5ca1345"
      },
      "execution_count": 30,
      "outputs": [
        {
          "output_type": "stream",
          "name": "stdout",
          "text": [
            "In clear  : [1 1 1 1 1 1 1 1 1 1 1 1 1 1 1 1 1 1 1 1 1 1 1 1 1 1 1 1 1 1 1 1 1 1 1 1 1\n",
            " 0 1 1 1 1 1 1 1 1 1 1 1 1 1 1 1 1 1 1 1 1 0 1 1 1 1 1 1 1 1 1 1 1 1 1 1 1\n",
            " 1 1 1 1 1 1 1 1 1 1 1 1 1 1 1 1 1 1 1 1 1 1 1 1 1 1 1 1 1 1 1 1 1 1 1 1 1\n",
            " 1 0 1 1 1 1 1 1 1 1 1 1 1 1 1 1 1 1 0 1 1 1 1 1 1 1 1 1 1 1 1 1 1 1 1 1 1\n",
            " 1 1 1 1 0 1 1 1 1 1 1 1 1 1 1 1 1 1 1 1 1 1 1 1 1 1 1 1 1 1 1 1 1 1 1 1 1\n",
            " 1 1 1 1 1 1 1 1 1 1 1 1 0 1 1]\n",
            "In FHE    : [1 1 1 1 1 1 1 1 1 1 1 1 1 1 1 1 1 1 1 1 1 1 1 1 1 1 1 1 1 1 1 1 1 1 1 1 1\n",
            " 0 1 1 1 1 1 1 1 1 1 1 1 1 1 1 1 1 1 1 1 1 0 1 1 1 1 1 1 1 1 1 1 1 1 1 1 1\n",
            " 1 1 1 1 1 1 1 1 1 1 1 1 1 1 1 1 1 1 1 1 1 1 1 1 1 1 1 1 1 1 1 1 1 1 1 1 1\n",
            " 1 0 1 1 1 1 1 1 1 1 1 1 1 1 1 1 1 1 0 1 1 1 1 1 1 1 1 1 1 1 1 1 1 1 1 1 1\n",
            " 1 1 1 1 0 1 1 1 1 1 1 1 1 1 1 1 1 1 1 1 1 1 1 1 1 1 1 1 1 1 1 1 1 1 1 1 1\n",
            " 1 1 1 1 1 1 1 1 1 1 1 1 0 1 1]\n",
            "Similarity: 100%\n"
          ]
        }
      ]
    },
    {
      "cell_type": "code",
      "source": [],
      "metadata": {
        "id": "BUPLP3Y5K9jY"
      },
      "execution_count": null,
      "outputs": []
    }
  ]
}
